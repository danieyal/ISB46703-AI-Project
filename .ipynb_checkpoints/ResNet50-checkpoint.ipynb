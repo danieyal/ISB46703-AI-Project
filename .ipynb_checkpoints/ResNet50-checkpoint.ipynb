{
 "cells": [
  {
   "cell_type": "code",
   "execution_count": 8,
   "metadata": {},
   "outputs": [],
   "source": [
    "from sklearn.metrics import confusion_matrix, ConfusionMatrixDisplay\n",
    "from sklearn.metrics import confusion_matrix, ConfusionMatrixDisplay, precision_recall_curve, average_precision_score\n",
    "from tensorflow.keras.applications import ResNet50\n",
    "from tensorflow.keras.layers import Dense, Flatten, GlobalAveragePooling2D\n",
    "from tensorflow.keras.layers import Dense, GlobalAveragePooling2D\n",
    "from tensorflow.keras.models import Model\n",
    "from tensorflow.keras.optimizers import Adam\n",
    "from tensorflow.keras.preprocessing.image import ImageDataGenerator\n",
    "import matplotlib.pyplot as plt\n",
    "import numpy as np\n",
    "import tensorflow as tf"
   ]
  },
  {
   "cell_type": "code",
   "execution_count": null,
   "metadata": {},
   "outputs": [],
   "source": [
    "# Load and preprocess data\n",
    "train_datagen = ImageDataGenerator(rescale=1./255)\n",
    "val_datagen = ImageDataGenerator(rescale=1./255)\n",
    "test_datagen = ImageDataGenerator(rescale=1./255)\n",
    "\n",
    "# Set batch size\n",
    "batch_size = 16\n",
    "\n",
    "train_generator = train_datagen.flow_from_directory('split_data/train', target_size=(224, 224), batch_size=batch_size, class_mode='categorical')\n",
    "val_generator = val_datagen.flow_from_directory('split_data/val', target_size=(224, 224), batch_size=batch_size, class_mode='categorical')\n",
    "test_generator = test_datagen.flow_from_directory('split_data/test', target_size=(224, 224), batch_size=batch_size, class_mode='categorical')\n",
    "\n",
    "def create_resnet_model():\n",
    "    base_model = ResNet50(weights='imagenet', include_top=False, input_shape=(224, 224, 3))\n",
    "    x = base_model.output\n",
    "    x = GlobalAveragePooling2D()(x)\n",
    "    x = Dense(1024, activation='relu')(x)\n",
    "    predictions = Dense(train_generator.num_classes, activation='softmax')(x)\n",
    "    model = Model(inputs=base_model.input, outputs=predictions)\n",
    "    return model\n",
    "\n",
    "# Initialize and compile the model\n",
    "resnet_model = create_resnet_model()\n",
    "resnet_model.compile(optimizer=Adam(), loss='categorical_crossentropy', metrics=['accuracy'])\n",
    "\n",
    "# Train the model\n",
    "history_resnet = resnet_model.fit(train_generator, epochs=50, validation_data=val_generator)\n",
    "\n",
    "# Save the model\n",
    "resnet_model.save('resnet_model.h5')\n"
   ]
  },
  {
   "cell_type": "code",
   "execution_count": null,
   "metadata": {},
   "outputs": [],
   "source": [
    "\n",
    "def plot_performance(history, model_name):\n",
    "    # Plot training & validation accuracy values\n",
    "    plt.figure(figsize=(14, 5))\n",
    "    plt.subplot(1, 2, 1)\n",
    "    plt.plot(history.history['accuracy'])\n",
    "    plt.plot(history.history['val_accuracy'])\n",
    "    plt.title(f'{model_name} Accuracy')\n",
    "    plt.xlabel('Epoch')\n",
    "    plt.ylabel('Accuracy')\n",
    "    plt.legend(['Train', 'Validation'], loc='upper left')\n",
    "    \n",
    "    # Plot training & validation loss values\n",
    "    plt.subplot(1, 2, 2)\n",
    "    plt.plot(history.history['loss'])\n",
    "    plt.plot(history.history['val_loss'])\n",
    "    plt.title(f'{model_name} Loss')\n",
    "    plt.xlabel('Epoch')\n",
    "    plt.ylabel('Loss')\n",
    "    plt.legend(['Train', 'Validation'], loc='upper left')\n",
    "    \n",
    "    plt.show()\n",
    "\n",
    "    # Plot performance for ResNet50\n",
    "plot_performance(history_resnet, 'ResNet50')"
   ]
  },
  {
   "cell_type": "code",
   "execution_count": null,
   "metadata": {},
   "outputs": [],
   "source": [
    "# Compute mAP\n",
    "y_true = test_generator.classes\n",
    "y_pred_probs = resnet_model.predict(test_generator)\n",
    "\n",
    "precision = dict()\n",
    "recall = dict()\n",
    "average_precision = dict()\n",
    "n_classes = train_generator.num_classes\n",
    "\n",
    "for i in range(n_classes):\n",
    "    precision[i], recall[i], _ = precision_recall_curve(y_true == i, y_pred_probs[:, i])\n",
    "    average_precision[i] = average_precision_score(y_true == i, y_pred_probs[:, i])\n",
    "\n",
    "# Compute Mean Average Precision (mAP)\n",
    "mean_average_precision = np.mean(list(average_precision.values()))\n",
    "print(f'Mean Average Precision (mAP): {mean_average_precision}')\n"
   ]
  },
  {
   "cell_type": "code",
   "execution_count": null,
   "metadata": {},
   "outputs": [],
   "source": [
    "def plot_confusion_matrix(model, generator, model_name):\n",
    "    Y_pred = model.predict(generator)\n",
    "    y_pred = np.argmax(Y_pred, axis=1)\n",
    "    cm = confusion_matrix(generator.classes, y_pred)\n",
    "    cm_display = ConfusionMatrixDisplay(cm, display_labels=generator.class_indices.keys()).plot()\n",
    "    plt.title(f'{model_name} Confusion Matrix')\n",
    "    plt.show()\n",
    "\n",
    "plot_confusion_matrix(resnet_model, train_generator, 'ResNet50')\n",
    "\n"
   ]
  },
  {
   "cell_type": "code",
   "execution_count": null,
   "metadata": {},
   "outputs": [],
   "source": [
    "train_loss, train_accuracy = resnet_model.evaluate(train_generator)\n",
    "print(f'loss: {train_loss}, acc: {train_accuracy}')"
   ]
  },
  {
   "cell_type": "code",
   "execution_count": null,
   "metadata": {},
   "outputs": [],
   "source": [
    "val_loss, val_accuracy = resnet_model.evaluate(val_generator)\n",
    "print(f'Validation loss: {val_loss}, Validation accuracy: {val_accuracy}')"
   ]
  },
  {
   "cell_type": "code",
   "execution_count": null,
   "metadata": {},
   "outputs": [],
   "source": [
    "test_loss, test_accuracy = resnet_model.evaluate(test_generator)\n",
    "print(f'loss: {test_loss}, acc: {test_accuracy}')\n"
   ]
  }
 ],
 "metadata": {
  "kernelspec": {
   "display_name": "ISB46703",
   "language": "python",
   "name": "python3"
  },
  "language_info": {
   "codemirror_mode": {
    "name": "ipython",
    "version": 3
   },
   "file_extension": ".py",
   "mimetype": "text/x-python",
   "name": "python",
   "nbconvert_exporter": "python",
   "pygments_lexer": "ipython3",
   "version": "3.8.18"
  }
 },
 "nbformat": 4,
 "nbformat_minor": 2
}
